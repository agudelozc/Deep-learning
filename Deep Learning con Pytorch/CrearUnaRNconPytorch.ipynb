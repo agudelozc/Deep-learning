{
  "nbformat": 4,
  "nbformat_minor": 0,
  "metadata": {
    "colab": {
      "provenance": []
    },
    "kernelspec": {
      "name": "python3",
      "display_name": "Python 3"
    },
    "language_info": {
      "name": "python"
    },
    "gpuClass": "standard",
    "accelerator": "GPU"
  },
  "cells": [
    {
      "cell_type": "code",
      "execution_count": 2,
      "metadata": {
        "id": "Vj015SGK628K"
      },
      "outputs": [],
      "source": [
        "import torch\n",
        "import torch.nn as nn\n",
        "import torch.nn.functional as F #capas sin parametros\n"
      ]
    },
    {
      "cell_type": "code",
      "source": [
        "class Net(nn.Module):\n",
        "  def __init__(self, num_channels):\n",
        "    super(Net,self).__init__()\n",
        "\n",
        "    self.num_channels = num_channels\n",
        "\n",
        "    self.conv1 = nn.Conv2d(3, self.num_channels, 3, stride = 1, padding=1)\n",
        "    self.conv2 = nn.Conv2d(self.num_channels, self.num_channels*2, 3, stride = 1, padding=1)\n",
        "    self.conv3 = nn.Conv2d(self.num_channels*2, self.num_channels*4, 3, stride = 1, padding=1)\n",
        "\n",
        "    self.fc1 = nn.Linear(self.num_channels*4*8*8, self.num_channels*4)\n",
        "    self.fc2 = nn.Linear(self.num_channels*4, 6)\n",
        "\n",
        "  def forward(self,x):\n",
        "    #Empieza 3x64x64\n",
        "    x = self.conv1(x) #self.num_channels x 64 x 64\n",
        "    x = F.relu(F.max_pool2d(x,2)) # num_chanells x 32 x 32\n",
        "    x = self.conv2(x) #num_chanels*2 x 32 x 32\n",
        "    x = F.relu(F.max_pool2d(x,2)) # num_chanells x 16 x 16\n",
        "    x = self.conv3(x) #num_chanels*4 x 16 x 16\n",
        "    x = F.relu(F.max_pool2d(x,2)) # num_chanels*4  x 8 x 8\n",
        "    \n",
        "    #flatten\n",
        "    x = x.view(-1, self.num_channels*4*8*8)\n",
        "\n",
        "    #fc\n",
        "    x = self.fc1(x)\n",
        "    x = F.relu(x)\n",
        "    x=self.fc2(x)\n",
        "\n",
        "    #log_softmax\n",
        "    x=F.log_softmax(x, dim = 1)\n",
        "\n",
        "    return x\n",
        "\n"
      ],
      "metadata": {
        "id": "8EeAMo3Y7C8u"
      },
      "execution_count": 3,
      "outputs": []
    },
    {
      "cell_type": "code",
      "source": [
        "from google.colab import drive\n",
        "drive.mount('/gdrive')"
      ],
      "metadata": {
        "colab": {
          "base_uri": "https://localhost:8080/"
        },
        "id": "zqDXMxON2ZgH",
        "outputId": "a955d977-781d-4593-d198-4039f2d68920"
      },
      "execution_count": 4,
      "outputs": [
        {
          "output_type": "stream",
          "name": "stdout",
          "text": [
            "Mounted at /gdrive\n"
          ]
        }
      ]
    },
    {
      "cell_type": "code",
      "source": [
        "!ls '/gdrive/My Drive/dl-pytorch/datasets/64x64_SIGNS'"
      ],
      "metadata": {
        "colab": {
          "base_uri": "https://localhost:8080/"
        },
        "id": "Sl_h03UJC0yH",
        "outputId": "07efb70b-4f20-41b1-e4ca-8919978006df"
      },
      "execution_count": 5,
      "outputs": [
        {
          "output_type": "stream",
          "name": "stdout",
          "text": [
            "test_signs  train_signs  val_signs\n"
          ]
        }
      ]
    },
    {
      "cell_type": "code",
      "source": [
        "import sys\n",
        "sys.path.append('/gdrive/My Drive/dl-pytorch/')"
      ],
      "metadata": {
        "id": "hWSVAJ0TGlN3"
      },
      "execution_count": 6,
      "outputs": []
    },
    {
      "cell_type": "code",
      "source": [
        "from plot_helpers import imshow"
      ],
      "metadata": {
        "id": "pTbW5f2VGqhS"
      },
      "execution_count": 7,
      "outputs": []
    },
    {
      "cell_type": "code",
      "source": [
        "import os\n",
        "from PIL import Image\n",
        "from torch.utils.data import Dataset, DataLoader\n",
        "\n",
        "class SIGNSDataset(Dataset):\n",
        "  def __init__(self, base_dir,split=\"train\",transform=None):\n",
        "    path = os.path.join(base_dir, \"{}_signs\".format(split))\n",
        "    files = os.listdir(path)\n",
        "\n",
        "    self.filenames = [os.path.join(path,f) for f in files if f.endswith(\".jpg\")]\n",
        "    self.targets = [int(f[0]) for f in files]\n",
        "    self.transform = transform\n",
        "  \n",
        "  def __len__(self):\n",
        "    return len(self.filenames)\n",
        "\n",
        "  def __getitem__(self, idx):\n",
        "    image = Image.open(self.filenames[idx])\n",
        "    if self.transform:\n",
        "      image = self.transform(image)\n",
        "    return image, self.targets[idx]\n"
      ],
      "metadata": {
        "id": "tDYsGLW8Guyw"
      },
      "execution_count": 8,
      "outputs": []
    },
    {
      "cell_type": "code",
      "source": [
        "signs = SIGNSDataset('/gdrive/My Drive/dl-pytorch/datasets/64x64_SIGNS',split=\"train\")"
      ],
      "metadata": {
        "id": "6O4nZIeJImyc"
      },
      "execution_count": 9,
      "outputs": []
    },
    {
      "cell_type": "code",
      "source": [
        "len(signs)"
      ],
      "metadata": {
        "colab": {
          "base_uri": "https://localhost:8080/"
        },
        "id": "c01qfx2aJU3Q",
        "outputId": "fb28312a-81df-4bf6-d479-9a6fc4f41c2e"
      },
      "execution_count": 10,
      "outputs": [
        {
          "output_type": "execute_result",
          "data": {
            "text/plain": [
              "864"
            ]
          },
          "metadata": {},
          "execution_count": 10
        }
      ]
    },
    {
      "cell_type": "code",
      "source": [
        "signs[0][0]"
      ],
      "metadata": {
        "colab": {
          "base_uri": "https://localhost:8080/",
          "height": 81
        },
        "id": "OwImU-TPJXFA",
        "outputId": "17dbb1de-c681-4eb1-8d44-a7c680c39316"
      },
      "execution_count": 11,
      "outputs": [
        {
          "output_type": "execute_result",
          "data": {
            "text/plain": [
              "<PIL.JpegImagePlugin.JpegImageFile image mode=RGB size=64x64 at 0x7F6EC442BC10>"
            ],
            "image/png": "[encoded data removed]"
          },
          "metadata": {},
          "execution_count": 11
        }
      ]
    },
    {
      "cell_type": "code",
      "source": [
        "import torchvision.transforms as transforms"
      ],
      "metadata": {
        "id": "feNLHGfiLJFk"
      },
      "execution_count": 12,
      "outputs": []
    },
    {
      "cell_type": "code",
      "source": [
        "trainset = SIGNSDataset('/gdrive/My Drive/dl-pytorch/datasets/64x64_SIGNS',split=\"train\", transform = transforms.ToTensor())"
      ],
      "metadata": {
        "id": "K8zahzw1LPLN"
      },
      "execution_count": 13,
      "outputs": []
    },
    {
      "cell_type": "code",
      "source": [
        "dataloader = DataLoader(trainset, batch_size=32)"
      ],
      "metadata": {
        "id": "dpVKEyvbLZ2Z"
      },
      "execution_count": 14,
      "outputs": []
    },
    {
      "cell_type": "code",
      "source": [
        "from torchvision.utils import make_grid\n",
        "\n",
        "for inputs, targets in dataloader:\n",
        "  out = make_grid(inputs)\n",
        "  imshow(out)\n",
        "  print(targets)\n",
        "  break"
      ],
      "metadata": {
        "colab": {
          "base_uri": "https://localhost:8080/",
          "height": 257
        },
        "id": "D1EtuUvgLldN",
        "outputId": "c35e0b2a-d56f-4555-9797-7073fde77086"
      },
      "execution_count": 15,
      "outputs": [
        {
          "output_type": "display_data",
          "data": {
            "text/plain": [
              "<Figure size 432x288 with 1 Axes>"
            ],
            "image/png": "[encoded data removed]"
          },
          "metadata": {
            "needs_background": "light"
          }
        },
        {
          "output_type": "stream",
          "name": "stdout",
          "text": [
            "tensor([1, 1, 1, 2, 2, 0, 3, 3, 4, 1, 2, 4, 1, 5, 4, 5, 1, 1, 2, 3, 4, 3, 4, 1,\n",
            "        2, 3, 0, 1, 0, 4, 5, 5])\n"
          ]
        }
      ]
    },
    {
      "cell_type": "code",
      "source": [
        "import torch.optim as optim"
      ],
      "metadata": {
        "id": "Dgb5FIiPL_Er"
      },
      "execution_count": 16,
      "outputs": []
    },
    {
      "cell_type": "code",
      "source": [
        "device = torch.device('cuda')"
      ],
      "metadata": {
        "id": "1PbZ4cJQMNz3"
      },
      "execution_count": 17,
      "outputs": []
    },
    {
      "cell_type": "code",
      "source": [
        "device"
      ],
      "metadata": {
        "colab": {
          "base_uri": "https://localhost:8080/"
        },
        "id": "JKyM6FnHMs5N",
        "outputId": "e4566960-6b10-47a8-d08b-b0af5b62125e"
      },
      "execution_count": 18,
      "outputs": [
        {
          "output_type": "execute_result",
          "data": {
            "text/plain": [
              "device(type='cuda')"
            ]
          },
          "metadata": {},
          "execution_count": 18
        }
      ]
    },
    {
      "cell_type": "code",
      "source": [
        "net = Net(32).to(device)\n",
        "\n",
        "loss_fn = nn.NLLLoss()\n",
        "optimizer = optim.SGD(net.parameters(), lr=1e-3, momentum=0.9)"
      ],
      "metadata": {
        "id": "_bsJNP9fLwd_"
      },
      "execution_count": 19,
      "outputs": []
    },
    {
      "cell_type": "code",
      "source": [
        "class RunningMetric():\n",
        "  def __init__(self):\n",
        "    self.S = 0\n",
        "    self.N = 0\n",
        "  def update(self, val, size):\n",
        "    self.S +=val\n",
        "    self.N +=size\n",
        "  def __call__(self):\n",
        "    return self.S/float(self.N)"
      ],
      "metadata": {
        "id": "DzIU19QJNM0n"
      },
      "execution_count": 20,
      "outputs": []
    },
    {
      "cell_type": "code",
      "source": [
        "num_epochs = 100"
      ],
      "metadata": {
        "id": "U0oH4zreNjZS"
      },
      "execution_count": 21,
      "outputs": []
    },
    {
      "cell_type": "code",
      "source": [
        "for epoch in range(num_epochs):\n",
        "  print(f'Epoch{epoch+1}/{num_epochs}')\n",
        "  print('-'*10)\n",
        "\n",
        "  running_loss = RunningMetric() # perdida\n",
        "  running_acc = RunningMetric() #precision\n",
        "\n",
        "  for inputs,targets in dataloader:\n",
        "    inputs,targets = inputs.to(device), targets.to(device)\n",
        "    optimizer.zero_grad()\n",
        "\n",
        "    outputs = net(inputs)\n",
        "    _,preds = torch.max(outputs,1)\n",
        "    loss = loss_fn(outputs,targets)\n",
        "\n",
        "    loss.backward() # gradientes calculados automaticamente\n",
        "    optimizer.step()  #actualiza los parametros\n",
        "\n",
        "    batch_size = inputs.size()[0]\n",
        "    running_loss.update(loss.item()*batch_size, batch_size)\n",
        "    running_acc.update(torch.sum(preds == targets).float(), batch_size)\n",
        "  print(\"Loss: {:.4f} Acc: {:.4f}\".format(running_loss(),running_acc()))"
      ],
      "metadata": {
        "colab": {
          "base_uri": "https://localhost:8080/"
        },
        "id": "If5QNpSJNxxZ",
        "outputId": "0709a571-3645-4541-c217-6aae03326e74"
      },
      "execution_count": 23,
      "outputs": [
        {
          "output_type": "stream",
          "name": "stdout",
          "text": [
            "Epoch1/100\n",
            "----------\n",
            "Loss: 1.7930 Acc: 0.1725\n",
            "Epoch2/100\n",
            "----------\n",
            "Loss: 1.7920 Acc: 0.1725\n",
            "Epoch3/100\n",
            "----------\n",
            "Loss: 1.7915 Acc: 0.1725\n",
            "Epoch4/100\n",
            "----------\n",
            "Loss: 1.7909 Acc: 0.1725\n",
            "Epoch5/100\n",
            "----------\n",
            "Loss: 1.7905 Acc: 0.1725\n",
            "Epoch6/100\n",
            "----------\n",
            "Loss: 1.7900 Acc: 0.1725\n",
            "Epoch7/100\n",
            "----------\n",
            "Loss: 1.7895 Acc: 0.1725\n",
            "Epoch8/100\n",
            "----------\n",
            "Loss: 1.7889 Acc: 0.1725\n",
            "Epoch9/100\n",
            "----------\n",
            "Loss: 1.7883 Acc: 0.1771\n",
            "Epoch10/100\n",
            "----------\n",
            "Loss: 1.7877 Acc: 0.1887\n",
            "Epoch11/100\n",
            "----------\n",
            "Loss: 1.7870 Acc: 0.1979\n",
            "Epoch12/100\n",
            "----------\n",
            "Loss: 1.7863 Acc: 0.1968\n",
            "Epoch13/100\n",
            "----------\n",
            "Loss: 1.7854 Acc: 0.2002\n",
            "Epoch14/100\n",
            "----------\n",
            "Loss: 1.7845 Acc: 0.2095\n",
            "Epoch15/100\n",
            "----------\n",
            "Loss: 1.7834 Acc: 0.2130\n",
            "Epoch16/100\n",
            "----------\n",
            "Loss: 1.7822 Acc: 0.2188\n",
            "Epoch17/100\n",
            "----------\n",
            "Loss: 1.7808 Acc: 0.2234\n",
            "Epoch18/100\n",
            "----------\n",
            "Loss: 1.7791 Acc: 0.2419\n",
            "Epoch19/100\n",
            "----------\n",
            "Loss: 1.7770 Acc: 0.2512\n",
            "Epoch20/100\n",
            "----------\n",
            "Loss: 1.7746 Acc: 0.2720\n",
            "Epoch21/100\n",
            "----------\n",
            "Loss: 1.7716 Acc: 0.2824\n",
            "Epoch22/100\n",
            "----------\n",
            "Loss: 1.7680 Acc: 0.2836\n",
            "Epoch23/100\n",
            "----------\n",
            "Loss: 1.7636 Acc: 0.2789\n",
            "Epoch24/100\n",
            "----------\n",
            "Loss: 1.7580 Acc: 0.2685\n",
            "Epoch25/100\n",
            "----------\n",
            "Loss: 1.7515 Acc: 0.2604\n",
            "Epoch26/100\n",
            "----------\n",
            "Loss: 1.7437 Acc: 0.2558\n",
            "Epoch27/100\n",
            "----------\n",
            "Loss: 1.7349 Acc: 0.2512\n",
            "Epoch28/100\n",
            "----------\n",
            "Loss: 1.7235 Acc: 0.2512\n",
            "Epoch29/100\n",
            "----------\n",
            "Loss: 1.7077 Acc: 0.2674\n",
            "Epoch30/100\n",
            "----------\n",
            "Loss: 1.6845 Acc: 0.2847\n",
            "Epoch31/100\n",
            "----------\n",
            "Loss: 1.6524 Acc: 0.3079\n",
            "Epoch32/100\n",
            "----------\n",
            "Loss: 1.6102 Acc: 0.3449\n",
            "Epoch33/100\n",
            "----------\n",
            "Loss: 1.5582 Acc: 0.3843\n",
            "Epoch34/100\n",
            "----------\n",
            "Loss: 1.5178 Acc: 0.4028\n",
            "Epoch35/100\n",
            "----------\n",
            "Loss: 1.4590 Acc: 0.4259\n",
            "Epoch36/100\n",
            "----------\n",
            "Loss: 1.4063 Acc: 0.4421\n",
            "Epoch37/100\n",
            "----------\n",
            "Loss: 1.3656 Acc: 0.4375\n",
            "Epoch38/100\n",
            "----------\n",
            "Loss: 1.3482 Acc: 0.4502\n",
            "Epoch39/100\n",
            "----------\n",
            "Loss: 1.3173 Acc: 0.4433\n",
            "Epoch40/100\n",
            "----------\n",
            "Loss: 1.2422 Acc: 0.4850\n",
            "Epoch41/100\n",
            "----------\n",
            "Loss: 1.2254 Acc: 0.4988\n",
            "Epoch42/100\n",
            "----------\n",
            "Loss: 1.1778 Acc: 0.5150\n",
            "Epoch43/100\n",
            "----------\n",
            "Loss: 1.1327 Acc: 0.5347\n",
            "Epoch44/100\n",
            "----------\n",
            "Loss: 1.1006 Acc: 0.5590\n",
            "Epoch45/100\n",
            "----------\n",
            "Loss: 1.0693 Acc: 0.5752\n",
            "Epoch46/100\n",
            "----------\n",
            "Loss: 1.0543 Acc: 0.5868\n",
            "Epoch47/100\n",
            "----------\n",
            "Loss: 1.0220 Acc: 0.6030\n",
            "Epoch48/100\n",
            "----------\n",
            "Loss: 1.0214 Acc: 0.5995\n",
            "Epoch49/100\n",
            "----------\n",
            "Loss: 0.9352 Acc: 0.6447\n",
            "Epoch50/100\n",
            "----------\n",
            "Loss: 0.9515 Acc: 0.6331\n",
            "Epoch51/100\n",
            "----------\n",
            "Loss: 0.9226 Acc: 0.6366\n",
            "Epoch52/100\n",
            "----------\n",
            "Loss: 0.8194 Acc: 0.6887\n",
            "Epoch53/100\n",
            "----------\n",
            "Loss: 0.8192 Acc: 0.6794\n",
            "Epoch54/100\n",
            "----------\n",
            "Loss: 0.7749 Acc: 0.7130\n",
            "Epoch55/100\n",
            "----------\n",
            "Loss: 0.7529 Acc: 0.7188\n",
            "Epoch56/100\n",
            "----------\n",
            "Loss: 0.7298 Acc: 0.7211\n",
            "Epoch57/100\n",
            "----------\n",
            "Loss: 0.7059 Acc: 0.7280\n",
            "Epoch58/100\n",
            "----------\n",
            "Loss: 0.6839 Acc: 0.7442\n",
            "Epoch59/100\n",
            "----------\n",
            "Loss: 0.6671 Acc: 0.7488\n",
            "Epoch60/100\n",
            "----------\n",
            "Loss: 0.6428 Acc: 0.7581\n",
            "Epoch61/100\n",
            "----------\n",
            "Loss: 0.6219 Acc: 0.7616\n",
            "Epoch62/100\n",
            "----------\n",
            "Loss: 0.6031 Acc: 0.7755\n",
            "Epoch63/100\n",
            "----------\n",
            "Loss: 0.5807 Acc: 0.7859\n",
            "Epoch64/100\n",
            "----------\n",
            "Loss: 0.5639 Acc: 0.7998\n",
            "Epoch65/100\n",
            "----------\n",
            "Loss: 0.5460 Acc: 0.8067\n",
            "Epoch66/100\n",
            "----------\n",
            "Loss: 0.5246 Acc: 0.8194\n",
            "Epoch67/100\n",
            "----------\n",
            "Loss: 0.5155 Acc: 0.8206\n",
            "Epoch68/100\n",
            "----------\n",
            "Loss: 0.4970 Acc: 0.8310\n",
            "Epoch69/100\n",
            "----------\n",
            "Loss: 0.4810 Acc: 0.8333\n",
            "Epoch70/100\n",
            "----------\n",
            "Loss: 0.4643 Acc: 0.8391\n",
            "Epoch71/100\n",
            "----------\n",
            "Loss: 0.4487 Acc: 0.8495\n",
            "Epoch72/100\n",
            "----------\n",
            "Loss: 0.4368 Acc: 0.8507\n",
            "Epoch73/100\n",
            "----------\n",
            "Loss: 0.4224 Acc: 0.8565\n",
            "Epoch74/100\n",
            "----------\n",
            "Loss: 0.4104 Acc: 0.8519\n",
            "Epoch75/100\n",
            "----------\n",
            "Loss: 0.3973 Acc: 0.8611\n",
            "Epoch76/100\n",
            "----------\n",
            "Loss: 0.3921 Acc: 0.8588\n",
            "Epoch77/100\n",
            "----------\n",
            "Loss: 0.3839 Acc: 0.8657\n",
            "Epoch78/100\n",
            "----------\n",
            "Loss: 0.3803 Acc: 0.8634\n",
            "Epoch79/100\n",
            "----------\n",
            "Loss: 0.3722 Acc: 0.8657\n",
            "Epoch80/100\n",
            "----------\n",
            "Loss: 0.3478 Acc: 0.8773\n",
            "Epoch81/100\n",
            "----------\n",
            "Loss: 0.3243 Acc: 0.8843\n",
            "Epoch82/100\n",
            "----------\n",
            "Loss: 0.3081 Acc: 0.8935\n",
            "Epoch83/100\n",
            "----------\n",
            "Loss: 0.2962 Acc: 0.9039\n",
            "Epoch84/100\n",
            "----------\n",
            "Loss: 0.2814 Acc: 0.9109\n",
            "Epoch85/100\n",
            "----------\n",
            "Loss: 0.2699 Acc: 0.9190\n",
            "Epoch86/100\n",
            "----------\n",
            "Loss: 0.2558 Acc: 0.9190\n",
            "Epoch87/100\n",
            "----------\n",
            "Loss: 0.2424 Acc: 0.9225\n",
            "Epoch88/100\n",
            "----------\n",
            "Loss: 0.2291 Acc: 0.9213\n",
            "Epoch89/100\n",
            "----------\n",
            "Loss: 0.2202 Acc: 0.9248\n",
            "Epoch90/100\n",
            "----------\n",
            "Loss: 0.2074 Acc: 0.9294\n",
            "Epoch91/100\n",
            "----------\n",
            "Loss: 0.1975 Acc: 0.9387\n",
            "Epoch92/100\n",
            "----------\n",
            "Loss: 0.1920 Acc: 0.9398\n",
            "Epoch93/100\n",
            "----------\n",
            "Loss: 0.1855 Acc: 0.9433\n",
            "Epoch94/100\n",
            "----------\n",
            "Loss: 0.1821 Acc: 0.9433\n",
            "Epoch95/100\n",
            "----------\n",
            "Loss: 0.1799 Acc: 0.9387\n",
            "Epoch96/100\n",
            "----------\n",
            "Loss: 0.1867 Acc: 0.9387\n",
            "Epoch97/100\n",
            "----------\n",
            "Loss: 0.1773 Acc: 0.9340\n",
            "Epoch98/100\n",
            "----------\n",
            "Loss: 0.1481 Acc: 0.9525\n",
            "Epoch99/100\n",
            "----------\n",
            "Loss: 0.1391 Acc: 0.9549\n",
            "Epoch100/100\n",
            "----------\n",
            "Loss: 0.1304 Acc: 0.9583\n"
          ]
        }
      ]
    }
  ]
}